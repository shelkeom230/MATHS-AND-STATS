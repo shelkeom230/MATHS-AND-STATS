{
 "cells": [
  {
   "cell_type": "code",
   "execution_count": 4,
   "id": "b0375d71-57db-48d4-9468-84174c161a5a",
   "metadata": {},
   "outputs": [],
   "source": [
    "import numpy as np\n",
    "import pandas as pd"
   ]
  },
  {
   "cell_type": "code",
   "execution_count": 5,
   "id": "8c81cb15-2622-49b9-be14-9ff8f95df25b",
   "metadata": {},
   "outputs": [
    {
     "data": {
      "text/html": [
       "<div>\n",
       "<style scoped>\n",
       "    .dataframe tbody tr th:only-of-type {\n",
       "        vertical-align: middle;\n",
       "    }\n",
       "\n",
       "    .dataframe tbody tr th {\n",
       "        vertical-align: top;\n",
       "    }\n",
       "\n",
       "    .dataframe thead th {\n",
       "        text-align: right;\n",
       "    }\n",
       "</style>\n",
       "<table border=\"1\" class=\"dataframe\">\n",
       "  <thead>\n",
       "    <tr style=\"text-align: right;\">\n",
       "      <th></th>\n",
       "      <th>id</th>\n",
       "      <th>name</th>\n",
       "      <th>host_id</th>\n",
       "      <th>host_name</th>\n",
       "      <th>neighbourhood_group</th>\n",
       "      <th>neighbourhood</th>\n",
       "      <th>latitude</th>\n",
       "      <th>longitude</th>\n",
       "      <th>room_type</th>\n",
       "      <th>price</th>\n",
       "      <th>minimum_nights</th>\n",
       "      <th>number_of_reviews</th>\n",
       "      <th>last_review</th>\n",
       "      <th>reviews_per_month</th>\n",
       "      <th>calculated_host_listings_count</th>\n",
       "      <th>availability_365</th>\n",
       "    </tr>\n",
       "  </thead>\n",
       "  <tbody>\n",
       "    <tr>\n",
       "      <th>0</th>\n",
       "      <td>2539</td>\n",
       "      <td>Clean &amp; quiet apt home by the park</td>\n",
       "      <td>2787</td>\n",
       "      <td>John</td>\n",
       "      <td>Brooklyn</td>\n",
       "      <td>Kensington</td>\n",
       "      <td>40.64749</td>\n",
       "      <td>-73.97237</td>\n",
       "      <td>Private room</td>\n",
       "      <td>149</td>\n",
       "      <td>1</td>\n",
       "      <td>9</td>\n",
       "      <td>10/19/2018</td>\n",
       "      <td>0.21</td>\n",
       "      <td>6</td>\n",
       "      <td>365</td>\n",
       "    </tr>\n",
       "    <tr>\n",
       "      <th>1</th>\n",
       "      <td>2595</td>\n",
       "      <td>Skylit Midtown Castle</td>\n",
       "      <td>2845</td>\n",
       "      <td>Jennifer</td>\n",
       "      <td>Manhattan</td>\n",
       "      <td>Midtown</td>\n",
       "      <td>40.75362</td>\n",
       "      <td>-73.98377</td>\n",
       "      <td>Entire home/apt</td>\n",
       "      <td>225</td>\n",
       "      <td>1</td>\n",
       "      <td>45</td>\n",
       "      <td>5/21/2019</td>\n",
       "      <td>0.38</td>\n",
       "      <td>2</td>\n",
       "      <td>355</td>\n",
       "    </tr>\n",
       "    <tr>\n",
       "      <th>2</th>\n",
       "      <td>3647</td>\n",
       "      <td>THE VILLAGE OF HARLEM....NEW YORK !</td>\n",
       "      <td>4632</td>\n",
       "      <td>Elisabeth</td>\n",
       "      <td>Manhattan</td>\n",
       "      <td>Harlem</td>\n",
       "      <td>40.80902</td>\n",
       "      <td>-73.94190</td>\n",
       "      <td>Private room</td>\n",
       "      <td>150</td>\n",
       "      <td>3</td>\n",
       "      <td>0</td>\n",
       "      <td>NaN</td>\n",
       "      <td>NaN</td>\n",
       "      <td>1</td>\n",
       "      <td>365</td>\n",
       "    </tr>\n",
       "    <tr>\n",
       "      <th>3</th>\n",
       "      <td>3831</td>\n",
       "      <td>Cozy Entire Floor of Brownstone</td>\n",
       "      <td>4869</td>\n",
       "      <td>LisaRoxanne</td>\n",
       "      <td>Brooklyn</td>\n",
       "      <td>Clinton Hill</td>\n",
       "      <td>40.68514</td>\n",
       "      <td>-73.95976</td>\n",
       "      <td>Entire home/apt</td>\n",
       "      <td>89</td>\n",
       "      <td>1</td>\n",
       "      <td>270</td>\n",
       "      <td>7/5/2019</td>\n",
       "      <td>4.64</td>\n",
       "      <td>1</td>\n",
       "      <td>194</td>\n",
       "    </tr>\n",
       "    <tr>\n",
       "      <th>4</th>\n",
       "      <td>5022</td>\n",
       "      <td>Entire Apt: Spacious Studio/Loft by central park</td>\n",
       "      <td>7192</td>\n",
       "      <td>Laura</td>\n",
       "      <td>Manhattan</td>\n",
       "      <td>East Harlem</td>\n",
       "      <td>40.79851</td>\n",
       "      <td>-73.94399</td>\n",
       "      <td>Entire home/apt</td>\n",
       "      <td>80</td>\n",
       "      <td>10</td>\n",
       "      <td>9</td>\n",
       "      <td>11/19/2018</td>\n",
       "      <td>0.10</td>\n",
       "      <td>1</td>\n",
       "      <td>0</td>\n",
       "    </tr>\n",
       "  </tbody>\n",
       "</table>\n",
       "</div>"
      ],
      "text/plain": [
       "     id                                              name  host_id  \\\n",
       "0  2539                Clean & quiet apt home by the park     2787   \n",
       "1  2595                             Skylit Midtown Castle     2845   \n",
       "2  3647               THE VILLAGE OF HARLEM....NEW YORK !     4632   \n",
       "3  3831                   Cozy Entire Floor of Brownstone     4869   \n",
       "4  5022  Entire Apt: Spacious Studio/Loft by central park     7192   \n",
       "\n",
       "     host_name neighbourhood_group neighbourhood  latitude  longitude  \\\n",
       "0         John            Brooklyn    Kensington  40.64749  -73.97237   \n",
       "1     Jennifer           Manhattan       Midtown  40.75362  -73.98377   \n",
       "2    Elisabeth           Manhattan        Harlem  40.80902  -73.94190   \n",
       "3  LisaRoxanne            Brooklyn  Clinton Hill  40.68514  -73.95976   \n",
       "4        Laura           Manhattan   East Harlem  40.79851  -73.94399   \n",
       "\n",
       "         room_type  price  minimum_nights  number_of_reviews last_review  \\\n",
       "0     Private room    149               1                  9  10/19/2018   \n",
       "1  Entire home/apt    225               1                 45   5/21/2019   \n",
       "2     Private room    150               3                  0         NaN   \n",
       "3  Entire home/apt     89               1                270    7/5/2019   \n",
       "4  Entire home/apt     80              10                  9  11/19/2018   \n",
       "\n",
       "   reviews_per_month  calculated_host_listings_count  availability_365  \n",
       "0               0.21                               6               365  \n",
       "1               0.38                               2               355  \n",
       "2                NaN                               1               365  \n",
       "3               4.64                               1               194  \n",
       "4               0.10                               1                 0  "
      ]
     },
     "execution_count": 5,
     "metadata": {},
     "output_type": "execute_result"
    }
   ],
   "source": [
    "df=pd.read_csv(\"airbnb.csv\")\n",
    "df.head()"
   ]
  },
  {
   "cell_type": "code",
   "execution_count": 6,
   "id": "9296ccd9-b439-4d6f-b9f7-4981196a4b08",
   "metadata": {},
   "outputs": [
    {
     "data": {
      "text/plain": [
       "Index(['id', 'name', 'host_id', 'host_name', 'neighbourhood_group',\n",
       "       'neighbourhood', 'latitude', 'longitude', 'room_type', 'price',\n",
       "       'minimum_nights', 'number_of_reviews', 'last_review',\n",
       "       'reviews_per_month', 'calculated_host_listings_count',\n",
       "       'availability_365'],\n",
       "      dtype='object')"
      ]
     },
     "execution_count": 6,
     "metadata": {},
     "output_type": "execute_result"
    }
   ],
   "source": [
    "df.columns"
   ]
  },
  {
   "cell_type": "code",
   "execution_count": 7,
   "id": "c53c2f99-91c8-4ba3-8cfc-4ef5f0b85df6",
   "metadata": {},
   "outputs": [
    {
     "data": {
      "text/plain": [
       "id                                    0\n",
       "name                                 16\n",
       "host_id                               0\n",
       "host_name                            21\n",
       "neighbourhood_group                   0\n",
       "neighbourhood                         0\n",
       "latitude                              0\n",
       "longitude                             0\n",
       "room_type                             0\n",
       "price                                 0\n",
       "minimum_nights                        0\n",
       "number_of_reviews                     0\n",
       "last_review                       10052\n",
       "reviews_per_month                 10052\n",
       "calculated_host_listings_count        0\n",
       "availability_365                      0\n",
       "dtype: int64"
      ]
     },
     "execution_count": 7,
     "metadata": {},
     "output_type": "execute_result"
    }
   ],
   "source": [
    "df.isna().sum()"
   ]
  },
  {
   "cell_type": "code",
   "execution_count": 8,
   "id": "579a6191-6f6e-42d3-a181-9571c8fa4088",
   "metadata": {},
   "outputs": [
    {
     "data": {
      "text/plain": [
       "count    48895.000000\n",
       "mean       152.720687\n",
       "std        240.154170\n",
       "min          0.000000\n",
       "25%         69.000000\n",
       "50%        106.000000\n",
       "75%        175.000000\n",
       "max      10000.000000\n",
       "Name: price, dtype: float64"
      ]
     },
     "execution_count": 8,
     "metadata": {},
     "output_type": "execute_result"
    }
   ],
   "source": [
    "df.price.describe()"
   ]
  },
  {
   "cell_type": "code",
   "execution_count": 9,
   "id": "84feb588-8080-467b-9a38-54addd17b27a",
   "metadata": {},
   "outputs": [
    {
     "data": {
      "text/plain": [
       "np.float64(0.0)"
      ]
     },
     "execution_count": 9,
     "metadata": {},
     "output_type": "execute_result"
    }
   ],
   "source": [
    "df.price.quantile(0)"
   ]
  },
  {
   "cell_type": "code",
   "execution_count": 10,
   "id": "d403c410-402b-4711-9b32-09959c6f79e8",
   "metadata": {},
   "outputs": [
    {
     "data": {
      "text/plain": [
       "np.float64(69.0)"
      ]
     },
     "execution_count": 10,
     "metadata": {},
     "output_type": "execute_result"
    }
   ],
   "source": [
    "df.price.quantile(0.25)"
   ]
  },
  {
   "cell_type": "code",
   "execution_count": 11,
   "id": "68651c1d-656d-4c36-a186-7c90ed5c3003",
   "metadata": {},
   "outputs": [
    {
     "data": {
      "text/plain": [
       "np.float64(106.0)"
      ]
     },
     "execution_count": 11,
     "metadata": {},
     "output_type": "execute_result"
    }
   ],
   "source": [
    "df.price.quantile(0.50)"
   ]
  },
  {
   "cell_type": "code",
   "execution_count": 12,
   "id": "bf975e36-062a-400b-aea0-0fbba0258de7",
   "metadata": {},
   "outputs": [
    {
     "data": {
      "text/plain": [
       "np.float64(175.0)"
      ]
     },
     "execution_count": 12,
     "metadata": {},
     "output_type": "execute_result"
    }
   ],
   "source": [
    "df.price.quantile(0.75)"
   ]
  },
  {
   "cell_type": "code",
   "execution_count": 13,
   "id": "2e3fadbe-33d2-45b2-abb4-fde5658adc22",
   "metadata": {},
   "outputs": [
    {
     "data": {
      "text/plain": [
       "np.int64(69)"
      ]
     },
     "execution_count": 13,
     "metadata": {},
     "output_type": "execute_result"
    }
   ],
   "source": [
    "df.price.quantile(0.25,interpolation=\"higher\")"
   ]
  },
  {
   "cell_type": "code",
   "execution_count": 14,
   "id": "adf92fef-d2cb-4107-9c31-39a9a6d2b408",
   "metadata": {},
   "outputs": [
    {
     "data": {
      "text/plain": [
       "(30.0, 9999.0)"
      ]
     },
     "execution_count": 14,
     "metadata": {},
     "output_type": "execute_result"
    }
   ],
   "source": [
    "min_thresh,max_thresh=df.price.quantile([0.01,0.9999])\n",
    "min_thresh,max_thresh"
   ]
  },
  {
   "cell_type": "code",
   "execution_count": 15,
   "id": "02b8d4dd-ffb3-41a3-84c8-f7abf504559a",
   "metadata": {},
   "outputs": [
    {
     "data": {
      "text/html": [
       "<div>\n",
       "<style scoped>\n",
       "    .dataframe tbody tr th:only-of-type {\n",
       "        vertical-align: middle;\n",
       "    }\n",
       "\n",
       "    .dataframe tbody tr th {\n",
       "        vertical-align: top;\n",
       "    }\n",
       "\n",
       "    .dataframe thead th {\n",
       "        text-align: right;\n",
       "    }\n",
       "</style>\n",
       "<table border=\"1\" class=\"dataframe\">\n",
       "  <thead>\n",
       "    <tr style=\"text-align: right;\">\n",
       "      <th></th>\n",
       "      <th>id</th>\n",
       "      <th>name</th>\n",
       "      <th>host_id</th>\n",
       "      <th>host_name</th>\n",
       "      <th>neighbourhood_group</th>\n",
       "      <th>neighbourhood</th>\n",
       "      <th>latitude</th>\n",
       "      <th>longitude</th>\n",
       "      <th>room_type</th>\n",
       "      <th>price</th>\n",
       "      <th>minimum_nights</th>\n",
       "      <th>number_of_reviews</th>\n",
       "      <th>last_review</th>\n",
       "      <th>reviews_per_month</th>\n",
       "      <th>calculated_host_listings_count</th>\n",
       "      <th>availability_365</th>\n",
       "    </tr>\n",
       "  </thead>\n",
       "  <tbody>\n",
       "    <tr>\n",
       "      <th>957</th>\n",
       "      <td>375249</td>\n",
       "      <td>Enjoy Staten Island Hospitality</td>\n",
       "      <td>1887999</td>\n",
       "      <td>Rimma &amp; Jim</td>\n",
       "      <td>Staten Island</td>\n",
       "      <td>Graniteville</td>\n",
       "      <td>40.62109</td>\n",
       "      <td>-74.16534</td>\n",
       "      <td>Private room</td>\n",
       "      <td>20</td>\n",
       "      <td>3</td>\n",
       "      <td>80</td>\n",
       "      <td>5/26/2019</td>\n",
       "      <td>0.92</td>\n",
       "      <td>1</td>\n",
       "      <td>226</td>\n",
       "    </tr>\n",
       "    <tr>\n",
       "      <th>2675</th>\n",
       "      <td>1428154</td>\n",
       "      <td>Central, Peaceful Semi-Private Room</td>\n",
       "      <td>5912572</td>\n",
       "      <td>Tangier</td>\n",
       "      <td>Brooklyn</td>\n",
       "      <td>Flatbush</td>\n",
       "      <td>40.63899</td>\n",
       "      <td>-73.95177</td>\n",
       "      <td>Shared room</td>\n",
       "      <td>29</td>\n",
       "      <td>2</td>\n",
       "      <td>5</td>\n",
       "      <td>10/20/2014</td>\n",
       "      <td>0.07</td>\n",
       "      <td>1</td>\n",
       "      <td>321</td>\n",
       "    </tr>\n",
       "    <tr>\n",
       "      <th>2860</th>\n",
       "      <td>1620248</td>\n",
       "      <td>Large furnished 2 bedrooms- - 30 days Minimum</td>\n",
       "      <td>2196224</td>\n",
       "      <td>Sally</td>\n",
       "      <td>Manhattan</td>\n",
       "      <td>East Village</td>\n",
       "      <td>40.73051</td>\n",
       "      <td>-73.98140</td>\n",
       "      <td>Entire home/apt</td>\n",
       "      <td>10</td>\n",
       "      <td>30</td>\n",
       "      <td>0</td>\n",
       "      <td>NaN</td>\n",
       "      <td>NaN</td>\n",
       "      <td>4</td>\n",
       "      <td>137</td>\n",
       "    </tr>\n",
       "    <tr>\n",
       "      <th>3020</th>\n",
       "      <td>1767037</td>\n",
       "      <td>Small Cozy Room Wifi &amp; AC near JFK</td>\n",
       "      <td>9284163</td>\n",
       "      <td>Antonio</td>\n",
       "      <td>Queens</td>\n",
       "      <td>Woodhaven</td>\n",
       "      <td>40.68968</td>\n",
       "      <td>-73.85219</td>\n",
       "      <td>Private room</td>\n",
       "      <td>29</td>\n",
       "      <td>2</td>\n",
       "      <td>386</td>\n",
       "      <td>6/19/2019</td>\n",
       "      <td>5.53</td>\n",
       "      <td>3</td>\n",
       "      <td>50</td>\n",
       "    </tr>\n",
       "    <tr>\n",
       "      <th>3918</th>\n",
       "      <td>2431607</td>\n",
       "      <td>Bright, Airy Room Share for 2</td>\n",
       "      <td>4973668</td>\n",
       "      <td>Gloria</td>\n",
       "      <td>Brooklyn</td>\n",
       "      <td>Bedford-Stuyvesant</td>\n",
       "      <td>40.68642</td>\n",
       "      <td>-73.93440</td>\n",
       "      <td>Shared room</td>\n",
       "      <td>25</td>\n",
       "      <td>5</td>\n",
       "      <td>76</td>\n",
       "      <td>6/6/2019</td>\n",
       "      <td>1.22</td>\n",
       "      <td>3</td>\n",
       "      <td>258</td>\n",
       "    </tr>\n",
       "  </tbody>\n",
       "</table>\n",
       "</div>"
      ],
      "text/plain": [
       "           id                                           name  host_id  \\\n",
       "957    375249                Enjoy Staten Island Hospitality  1887999   \n",
       "2675  1428154            Central, Peaceful Semi-Private Room  5912572   \n",
       "2860  1620248  Large furnished 2 bedrooms- - 30 days Minimum  2196224   \n",
       "3020  1767037             Small Cozy Room Wifi & AC near JFK  9284163   \n",
       "3918  2431607                  Bright, Airy Room Share for 2  4973668   \n",
       "\n",
       "        host_name neighbourhood_group       neighbourhood  latitude  \\\n",
       "957   Rimma & Jim       Staten Island        Graniteville  40.62109   \n",
       "2675      Tangier            Brooklyn            Flatbush  40.63899   \n",
       "2860        Sally           Manhattan        East Village  40.73051   \n",
       "3020      Antonio              Queens           Woodhaven  40.68968   \n",
       "3918       Gloria            Brooklyn  Bedford-Stuyvesant  40.68642   \n",
       "\n",
       "      longitude        room_type  price  minimum_nights  number_of_reviews  \\\n",
       "957   -74.16534     Private room     20               3                 80   \n",
       "2675  -73.95177      Shared room     29               2                  5   \n",
       "2860  -73.98140  Entire home/apt     10              30                  0   \n",
       "3020  -73.85219     Private room     29               2                386   \n",
       "3918  -73.93440      Shared room     25               5                 76   \n",
       "\n",
       "     last_review  reviews_per_month  calculated_host_listings_count  \\\n",
       "957    5/26/2019               0.92                               1   \n",
       "2675  10/20/2014               0.07                               1   \n",
       "2860         NaN                NaN                               4   \n",
       "3020   6/19/2019               5.53                               3   \n",
       "3918    6/6/2019               1.22                               3   \n",
       "\n",
       "      availability_365  \n",
       "957                226  \n",
       "2675               321  \n",
       "2860               137  \n",
       "3020                50  \n",
       "3918               258  "
      ]
     },
     "execution_count": 15,
     "metadata": {},
     "output_type": "execute_result"
    }
   ],
   "source": [
    "# print the outliers\n",
    "df[(df.price<min_thresh)].head()"
   ]
  },
  {
   "cell_type": "code",
   "execution_count": 16,
   "id": "a4cce275-182b-4141-81e9-23ba669fd4b4",
   "metadata": {},
   "outputs": [
    {
     "data": {
      "text/html": [
       "<div>\n",
       "<style scoped>\n",
       "    .dataframe tbody tr th:only-of-type {\n",
       "        vertical-align: middle;\n",
       "    }\n",
       "\n",
       "    .dataframe tbody tr th {\n",
       "        vertical-align: top;\n",
       "    }\n",
       "\n",
       "    .dataframe thead th {\n",
       "        text-align: right;\n",
       "    }\n",
       "</style>\n",
       "<table border=\"1\" class=\"dataframe\">\n",
       "  <thead>\n",
       "    <tr style=\"text-align: right;\">\n",
       "      <th></th>\n",
       "      <th>id</th>\n",
       "      <th>name</th>\n",
       "      <th>host_id</th>\n",
       "      <th>host_name</th>\n",
       "      <th>neighbourhood_group</th>\n",
       "      <th>neighbourhood</th>\n",
       "      <th>latitude</th>\n",
       "      <th>longitude</th>\n",
       "      <th>room_type</th>\n",
       "      <th>price</th>\n",
       "      <th>minimum_nights</th>\n",
       "      <th>number_of_reviews</th>\n",
       "      <th>last_review</th>\n",
       "      <th>reviews_per_month</th>\n",
       "      <th>calculated_host_listings_count</th>\n",
       "      <th>availability_365</th>\n",
       "    </tr>\n",
       "  </thead>\n",
       "  <tbody>\n",
       "    <tr>\n",
       "      <th>9151</th>\n",
       "      <td>7003697</td>\n",
       "      <td>Furnished room in Astoria apartment</td>\n",
       "      <td>20582832</td>\n",
       "      <td>Kathrine</td>\n",
       "      <td>Queens</td>\n",
       "      <td>Astoria</td>\n",
       "      <td>40.76810</td>\n",
       "      <td>-73.91651</td>\n",
       "      <td>Private room</td>\n",
       "      <td>10000</td>\n",
       "      <td>100</td>\n",
       "      <td>2</td>\n",
       "      <td>2/13/2016</td>\n",
       "      <td>0.04</td>\n",
       "      <td>1</td>\n",
       "      <td>0</td>\n",
       "    </tr>\n",
       "    <tr>\n",
       "      <th>17692</th>\n",
       "      <td>13894339</td>\n",
       "      <td>Luxury 1 bedroom apt. -stunning Manhattan views</td>\n",
       "      <td>5143901</td>\n",
       "      <td>Erin</td>\n",
       "      <td>Brooklyn</td>\n",
       "      <td>Greenpoint</td>\n",
       "      <td>40.73260</td>\n",
       "      <td>-73.95739</td>\n",
       "      <td>Entire home/apt</td>\n",
       "      <td>10000</td>\n",
       "      <td>5</td>\n",
       "      <td>5</td>\n",
       "      <td>7/27/2017</td>\n",
       "      <td>0.16</td>\n",
       "      <td>1</td>\n",
       "      <td>0</td>\n",
       "    </tr>\n",
       "    <tr>\n",
       "      <th>29238</th>\n",
       "      <td>22436899</td>\n",
       "      <td>1-BR Lincoln Center</td>\n",
       "      <td>72390391</td>\n",
       "      <td>Jelena</td>\n",
       "      <td>Manhattan</td>\n",
       "      <td>Upper West Side</td>\n",
       "      <td>40.77213</td>\n",
       "      <td>-73.98665</td>\n",
       "      <td>Entire home/apt</td>\n",
       "      <td>10000</td>\n",
       "      <td>30</td>\n",
       "      <td>0</td>\n",
       "      <td>NaN</td>\n",
       "      <td>NaN</td>\n",
       "      <td>1</td>\n",
       "      <td>83</td>\n",
       "    </tr>\n",
       "  </tbody>\n",
       "</table>\n",
       "</div>"
      ],
      "text/plain": [
       "             id                                             name   host_id  \\\n",
       "9151    7003697              Furnished room in Astoria apartment  20582832   \n",
       "17692  13894339  Luxury 1 bedroom apt. -stunning Manhattan views   5143901   \n",
       "29238  22436899                              1-BR Lincoln Center  72390391   \n",
       "\n",
       "      host_name neighbourhood_group    neighbourhood  latitude  longitude  \\\n",
       "9151   Kathrine              Queens          Astoria  40.76810  -73.91651   \n",
       "17692      Erin            Brooklyn       Greenpoint  40.73260  -73.95739   \n",
       "29238    Jelena           Manhattan  Upper West Side  40.77213  -73.98665   \n",
       "\n",
       "             room_type  price  minimum_nights  number_of_reviews last_review  \\\n",
       "9151      Private room  10000             100                  2   2/13/2016   \n",
       "17692  Entire home/apt  10000               5                  5   7/27/2017   \n",
       "29238  Entire home/apt  10000              30                  0         NaN   \n",
       "\n",
       "       reviews_per_month  calculated_host_listings_count  availability_365  \n",
       "9151                0.04                               1                 0  \n",
       "17692               0.16                               1                 0  \n",
       "29238                NaN                               1                83  "
      ]
     },
     "execution_count": 16,
     "metadata": {},
     "output_type": "execute_result"
    }
   ],
   "source": [
    "df[df.price>max_thresh].head()"
   ]
  },
  {
   "cell_type": "code",
   "execution_count": 17,
   "id": "9c8f1c1d-253b-44de-a063-8d169cf9e9bc",
   "metadata": {},
   "outputs": [
    {
     "data": {
      "text/plain": [
       "(48230, 16)"
      ]
     },
     "execution_count": 17,
     "metadata": {},
     "output_type": "execute_result"
    }
   ],
   "source": [
    "# dataset without outliers \n",
    "df_new=df[(df.price>min_thresh) & (df.price<max_thresh)]\n",
    "df_new.shape"
   ]
  },
  {
   "cell_type": "code",
   "execution_count": 22,
   "id": "e48dd1af-84a1-48d6-a66d-5d52c1627deb",
   "metadata": {},
   "outputs": [
    {
     "data": {
      "text/plain": [
       "0        149\n",
       "1        225\n",
       "2        150\n",
       "3         89\n",
       "4         80\n",
       "        ... \n",
       "48890     70\n",
       "48891     40\n",
       "48892    115\n",
       "48893     55\n",
       "48894     90\n",
       "Name: price, Length: 48230, dtype: int64"
      ]
     },
     "execution_count": 22,
     "metadata": {},
     "output_type": "execute_result"
    }
   ],
   "source": [
    "df_new.price"
   ]
  },
  {
   "cell_type": "code",
   "execution_count": 19,
   "id": "b65e88cd-b285-48cb-9c3c-af47948be246",
   "metadata": {},
   "outputs": [
    {
     "data": {
      "text/html": [
       "<div>\n",
       "<style scoped>\n",
       "    .dataframe tbody tr th:only-of-type {\n",
       "        vertical-align: middle;\n",
       "    }\n",
       "\n",
       "    .dataframe tbody tr th {\n",
       "        vertical-align: top;\n",
       "    }\n",
       "\n",
       "    .dataframe thead th {\n",
       "        text-align: right;\n",
       "    }\n",
       "</style>\n",
       "<table border=\"1\" class=\"dataframe\">\n",
       "  <thead>\n",
       "    <tr style=\"text-align: right;\">\n",
       "      <th></th>\n",
       "      <th>id</th>\n",
       "      <th>host_id</th>\n",
       "      <th>latitude</th>\n",
       "      <th>longitude</th>\n",
       "      <th>price</th>\n",
       "      <th>minimum_nights</th>\n",
       "      <th>number_of_reviews</th>\n",
       "      <th>reviews_per_month</th>\n",
       "      <th>calculated_host_listings_count</th>\n",
       "      <th>availability_365</th>\n",
       "    </tr>\n",
       "  </thead>\n",
       "  <tbody>\n",
       "    <tr>\n",
       "      <th>count</th>\n",
       "      <td>4.823000e+04</td>\n",
       "      <td>4.823000e+04</td>\n",
       "      <td>48230.000000</td>\n",
       "      <td>48230.000000</td>\n",
       "      <td>48230.000000</td>\n",
       "      <td>48230.000000</td>\n",
       "      <td>48230.000000</td>\n",
       "      <td>38329.000000</td>\n",
       "      <td>48230.000000</td>\n",
       "      <td>48230.000000</td>\n",
       "    </tr>\n",
       "    <tr>\n",
       "      <th>mean</th>\n",
       "      <td>1.896468e+07</td>\n",
       "      <td>6.723609e+07</td>\n",
       "      <td>40.729156</td>\n",
       "      <td>-73.952527</td>\n",
       "      <td>153.225544</td>\n",
       "      <td>7.020589</td>\n",
       "      <td>23.372776</td>\n",
       "      <td>1.373443</td>\n",
       "      <td>7.186212</td>\n",
       "      <td>112.842256</td>\n",
       "    </tr>\n",
       "    <tr>\n",
       "      <th>std</th>\n",
       "      <td>1.099523e+07</td>\n",
       "      <td>7.852244e+07</td>\n",
       "      <td>0.054225</td>\n",
       "      <td>0.045892</td>\n",
       "      <td>214.912102</td>\n",
       "      <td>20.545383</td>\n",
       "      <td>44.684585</td>\n",
       "      <td>1.680838</td>\n",
       "      <td>33.160148</td>\n",
       "      <td>131.576580</td>\n",
       "    </tr>\n",
       "    <tr>\n",
       "      <th>min</th>\n",
       "      <td>2.539000e+03</td>\n",
       "      <td>2.438000e+03</td>\n",
       "      <td>40.499790</td>\n",
       "      <td>-74.244420</td>\n",
       "      <td>31.000000</td>\n",
       "      <td>1.000000</td>\n",
       "      <td>0.000000</td>\n",
       "      <td>0.010000</td>\n",
       "      <td>1.000000</td>\n",
       "      <td>0.000000</td>\n",
       "    </tr>\n",
       "    <tr>\n",
       "      <th>25%</th>\n",
       "      <td>9.412004e+06</td>\n",
       "      <td>7.714575e+06</td>\n",
       "      <td>40.690370</td>\n",
       "      <td>-73.983217</td>\n",
       "      <td>70.000000</td>\n",
       "      <td>1.000000</td>\n",
       "      <td>1.000000</td>\n",
       "      <td>0.190000</td>\n",
       "      <td>1.000000</td>\n",
       "      <td>0.000000</td>\n",
       "    </tr>\n",
       "    <tr>\n",
       "      <th>50%</th>\n",
       "      <td>1.960605e+07</td>\n",
       "      <td>3.038406e+07</td>\n",
       "      <td>40.723295</td>\n",
       "      <td>-73.955960</td>\n",
       "      <td>110.000000</td>\n",
       "      <td>3.000000</td>\n",
       "      <td>5.000000</td>\n",
       "      <td>0.710000</td>\n",
       "      <td>1.000000</td>\n",
       "      <td>45.000000</td>\n",
       "    </tr>\n",
       "    <tr>\n",
       "      <th>75%</th>\n",
       "      <td>2.911297e+07</td>\n",
       "      <td>1.072729e+08</td>\n",
       "      <td>40.763180</td>\n",
       "      <td>-73.936980</td>\n",
       "      <td>179.000000</td>\n",
       "      <td>5.000000</td>\n",
       "      <td>24.000000</td>\n",
       "      <td>2.020000</td>\n",
       "      <td>2.000000</td>\n",
       "      <td>227.000000</td>\n",
       "    </tr>\n",
       "    <tr>\n",
       "      <th>max</th>\n",
       "      <td>3.648724e+07</td>\n",
       "      <td>2.743213e+08</td>\n",
       "      <td>40.913060</td>\n",
       "      <td>-73.712990</td>\n",
       "      <td>8500.000000</td>\n",
       "      <td>1250.000000</td>\n",
       "      <td>629.000000</td>\n",
       "      <td>58.500000</td>\n",
       "      <td>327.000000</td>\n",
       "      <td>365.000000</td>\n",
       "    </tr>\n",
       "  </tbody>\n",
       "</table>\n",
       "</div>"
      ],
      "text/plain": [
       "                 id       host_id      latitude     longitude         price  \\\n",
       "count  4.823000e+04  4.823000e+04  48230.000000  48230.000000  48230.000000   \n",
       "mean   1.896468e+07  6.723609e+07     40.729156    -73.952527    153.225544   \n",
       "std    1.099523e+07  7.852244e+07      0.054225      0.045892    214.912102   \n",
       "min    2.539000e+03  2.438000e+03     40.499790    -74.244420     31.000000   \n",
       "25%    9.412004e+06  7.714575e+06     40.690370    -73.983217     70.000000   \n",
       "50%    1.960605e+07  3.038406e+07     40.723295    -73.955960    110.000000   \n",
       "75%    2.911297e+07  1.072729e+08     40.763180    -73.936980    179.000000   \n",
       "max    3.648724e+07  2.743213e+08     40.913060    -73.712990   8500.000000   \n",
       "\n",
       "       minimum_nights  number_of_reviews  reviews_per_month  \\\n",
       "count    48230.000000       48230.000000       38329.000000   \n",
       "mean         7.020589          23.372776           1.373443   \n",
       "std         20.545383          44.684585           1.680838   \n",
       "min          1.000000           0.000000           0.010000   \n",
       "25%          1.000000           1.000000           0.190000   \n",
       "50%          3.000000           5.000000           0.710000   \n",
       "75%          5.000000          24.000000           2.020000   \n",
       "max       1250.000000         629.000000          58.500000   \n",
       "\n",
       "       calculated_host_listings_count  availability_365  \n",
       "count                    48230.000000      48230.000000  \n",
       "mean                         7.186212        112.842256  \n",
       "std                         33.160148        131.576580  \n",
       "min                          1.000000          0.000000  \n",
       "25%                          1.000000          0.000000  \n",
       "50%                          1.000000         45.000000  \n",
       "75%                          2.000000        227.000000  \n",
       "max                        327.000000        365.000000  "
      ]
     },
     "execution_count": 19,
     "metadata": {},
     "output_type": "execute_result"
    }
   ],
   "source": [
    "df_new.describe()"
   ]
  },
  {
   "cell_type": "code",
   "execution_count": 20,
   "id": "572a11ba-a4b6-4abe-bb8b-e2db61a095a2",
   "metadata": {},
   "outputs": [
    {
     "data": {
      "text/plain": [
       "count    48230.000000\n",
       "mean       153.225544\n",
       "std        214.912102\n",
       "min         31.000000\n",
       "25%         70.000000\n",
       "50%        110.000000\n",
       "75%        179.000000\n",
       "max       8500.000000\n",
       "Name: price, dtype: float64"
      ]
     },
     "execution_count": 20,
     "metadata": {},
     "output_type": "execute_result"
    }
   ],
   "source": [
    "df_new.price.describe()"
   ]
  }
 ],
 "metadata": {
  "kernelspec": {
   "display_name": "Python 3 (ipykernel)",
   "language": "python",
   "name": "python3"
  },
  "language_info": {
   "codemirror_mode": {
    "name": "ipython",
    "version": 3
   },
   "file_extension": ".py",
   "mimetype": "text/x-python",
   "name": "python",
   "nbconvert_exporter": "python",
   "pygments_lexer": "ipython3",
   "version": "3.12.1"
  }
 },
 "nbformat": 4,
 "nbformat_minor": 5
}
