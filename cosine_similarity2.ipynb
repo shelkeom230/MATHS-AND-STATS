{
 "cells": [
  {
   "cell_type": "code",
   "execution_count": 2,
   "id": "96fdbbdb-b0d1-4758-9ec2-3d85e3e7cb81",
   "metadata": {},
   "outputs": [],
   "source": [
    "import pandas as pd\n",
    "from sklearn.metrics.pairwise import cosine_similarity,cosine_distances"
   ]
  },
  {
   "cell_type": "code",
   "execution_count": 4,
   "id": "5d992187-6365-4f11-914f-b73352984b09",
   "metadata": {},
   "outputs": [],
   "source": [
    "doc1=\"\"\" \n",
    "Tesla's Model Y contributed to 65% of the company's total EV sales. Demand for electric vehicles is increasing by 25% YoY. The main competitor, Rivian, recorded 7% lower sales growth compared to Tesla.\n",
    "\"\"\"\n",
    "\n",
    "doc2= \"\"\"\n",
    "The rising adoption of EVs, historical demand spikes in Q4 ahead of tax incentives, \n",
    "and upcoming advancements in battery technology suggest a strong outlook for Tesla's \n",
    "stock performance. Analysts anticipate a surge in Model 3 and Model Y sales, \n",
    "exceeding previous investor expectations.\n",
    "\"\"\"\n",
    "\n",
    "doc3=\"\"\"  \n",
    "Ford's flagship electric truck, the F-150 Lightning, is seeing stronger adoption in \n",
    "rural markets compared to Tesla's Cybertruck. The F-150 Lightning features a practical design \n",
    "that resonates with traditional truck buyers. Over 55% of Ford's EV revenue now comes from the Lightning series.\n",
    "\"\"\"\n",
    "\n",
    "doc4=\"\"\"  \n",
    "\"General Motors unveils its latest Chevrolet Bolt EV, featuring incremental \n",
    "upgrades but a significantly lower price point. The Bolt EV's price cut of ~18%, \n",
    "similar to Tesla's recent strategy, highlights GM's focus on increasing sales volume \n",
    "and expanding its market share in the affordable EV segment.\n",
    "\"\"\""
   ]
  },
  {
   "cell_type": "code",
   "execution_count": 5,
   "id": "c6970c96-428e-4afd-93c4-afbf4f20afec",
   "metadata": {},
   "outputs": [
    {
     "data": {
      "text/html": [
       "<div>\n",
       "<style scoped>\n",
       "    .dataframe tbody tr th:only-of-type {\n",
       "        vertical-align: middle;\n",
       "    }\n",
       "\n",
       "    .dataframe tbody tr th {\n",
       "        vertical-align: top;\n",
       "    }\n",
       "\n",
       "    .dataframe thead th {\n",
       "        text-align: right;\n",
       "    }\n",
       "</style>\n",
       "<table border=\"1\" class=\"dataframe\">\n",
       "  <thead>\n",
       "    <tr style=\"text-align: right;\">\n",
       "      <th></th>\n",
       "      <th>Tesla</th>\n",
       "      <th>Ford</th>\n",
       "    </tr>\n",
       "  </thead>\n",
       "  <tbody>\n",
       "    <tr>\n",
       "      <th>doc1</th>\n",
       "      <td>3</td>\n",
       "      <td>1</td>\n",
       "    </tr>\n",
       "    <tr>\n",
       "      <th>doc2</th>\n",
       "      <td>2</td>\n",
       "      <td>0</td>\n",
       "    </tr>\n",
       "    <tr>\n",
       "      <th>doc3</th>\n",
       "      <td>1</td>\n",
       "      <td>3</td>\n",
       "    </tr>\n",
       "    <tr>\n",
       "      <th>doc4</th>\n",
       "      <td>1</td>\n",
       "      <td>2</td>\n",
       "    </tr>\n",
       "  </tbody>\n",
       "</table>\n",
       "</div>"
      ],
      "text/plain": [
       "      Tesla  Ford\n",
       "doc1      3     1\n",
       "doc2      2     0\n",
       "doc3      1     3\n",
       "doc4      1     2"
      ]
     },
     "execution_count": 5,
     "metadata": {},
     "output_type": "execute_result"
    }
   ],
   "source": [
    "df = pd.DataFrame([\n",
    "        {'Tesla': 3, 'Ford': 1},\n",
    "        {'Tesla': 2, 'Ford': 0},\n",
    "        {'Tesla': 1, 'Ford': 3},\n",
    "        {'Tesla': 1, 'Ford': 2},\n",
    "    ],\n",
    "    index=[\n",
    "        \"doc1\",\n",
    "        \"doc2\",\n",
    "        \"doc3\",\n",
    "        \"doc4\"\n",
    "    ])\n",
    "\n",
    "df"
   ]
  },
  {
   "cell_type": "code",
   "execution_count": 6,
   "id": "020f296d-1c1b-4d4f-bc36-a69dc2b85719",
   "metadata": {},
   "outputs": [
    {
     "data": {
      "text/html": [
       "<div>\n",
       "<style scoped>\n",
       "    .dataframe tbody tr th:only-of-type {\n",
       "        vertical-align: middle;\n",
       "    }\n",
       "\n",
       "    .dataframe tbody tr th {\n",
       "        vertical-align: top;\n",
       "    }\n",
       "\n",
       "    .dataframe thead th {\n",
       "        text-align: right;\n",
       "    }\n",
       "</style>\n",
       "<table border=\"1\" class=\"dataframe\">\n",
       "  <thead>\n",
       "    <tr style=\"text-align: right;\">\n",
       "      <th></th>\n",
       "      <th>Tesla</th>\n",
       "      <th>Ford</th>\n",
       "    </tr>\n",
       "  </thead>\n",
       "  <tbody>\n",
       "    <tr>\n",
       "      <th>doc1</th>\n",
       "      <td>3</td>\n",
       "      <td>1</td>\n",
       "    </tr>\n",
       "  </tbody>\n",
       "</table>\n",
       "</div>"
      ],
      "text/plain": [
       "      Tesla  Ford\n",
       "doc1      3     1"
      ]
     },
     "execution_count": 6,
     "metadata": {},
     "output_type": "execute_result"
    }
   ],
   "source": [
    "df.loc[\"doc1\":\"doc1\"]"
   ]
  },
  {
   "cell_type": "code",
   "execution_count": 7,
   "id": "ef73e1a6-35f3-4534-beff-674d68afc226",
   "metadata": {},
   "outputs": [
    {
     "data": {
      "text/plain": [
       "array([[0.9486833]])"
      ]
     },
     "execution_count": 7,
     "metadata": {},
     "output_type": "execute_result"
    }
   ],
   "source": [
    "cosine_similarity(df.loc[\"doc1\":\"doc1\"],df.loc[\"doc2\":\"doc2\"])"
   ]
  },
  {
   "cell_type": "code",
   "execution_count": 8,
   "id": "add027f1-8958-4d4b-a751-0ebda006e530",
   "metadata": {},
   "outputs": [
    {
     "data": {
      "text/plain": [
       "array([[0.0513167]])"
      ]
     },
     "execution_count": 8,
     "metadata": {},
     "output_type": "execute_result"
    }
   ],
   "source": [
    "cosine_distances(df.loc[\"doc1\":\"doc1\"],df.loc[\"doc2\":\"doc2\"])"
   ]
  },
  {
   "cell_type": "code",
   "execution_count": 9,
   "id": "05fb3d3d-7905-4f40-b5ae-6eb86c88c964",
   "metadata": {},
   "outputs": [
    {
     "data": {
      "text/plain": [
       "0.05131669999999999"
      ]
     },
     "execution_count": 9,
     "metadata": {},
     "output_type": "execute_result"
    }
   ],
   "source": [
    "1-0.9486833"
   ]
  },
  {
   "cell_type": "code",
   "execution_count": null,
   "id": "7193e07e-f21f-4101-9a32-771f82c1a7a5",
   "metadata": {},
   "outputs": [],
   "source": []
  }
 ],
 "metadata": {
  "kernelspec": {
   "display_name": "Python 3 (ipykernel)",
   "language": "python",
   "name": "python3"
  },
  "language_info": {
   "codemirror_mode": {
    "name": "ipython",
    "version": 3
   },
   "file_extension": ".py",
   "mimetype": "text/x-python",
   "name": "python",
   "nbconvert_exporter": "python",
   "pygments_lexer": "ipython3",
   "version": "3.12.1"
  }
 },
 "nbformat": 4,
 "nbformat_minor": 5
}
